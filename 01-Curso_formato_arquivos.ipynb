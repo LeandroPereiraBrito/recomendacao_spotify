{
 "cells": [
  {
   "cell_type": "code",
   "execution_count": 0,
   "metadata": {
    "application/vnd.databricks.v1+cell": {
     "cellMetadata": {
      "byteLimit": 2048000,
      "rowLimit": 10000
     },
     "inputWidgets": {},
     "nuid": "8fb09dbf-b082-4746-83e1-0be8de0fd67b",
     "showTitle": false,
     "title": ""
    }
   },
   "outputs": [
    {
     "output_type": "display_data",
     "data": {
      "application/vnd.databricks.v1+bamboolib_hint": "{\"pd.DataFrames\": [], \"version\": \"0.0.1\"}",
      "text/plain": []
     },
     "metadata": {},
     "output_type": "display_data"
    }
   ],
   "source": [
    "import pandas as pd"
   ]
  },
  {
   "cell_type": "code",
   "execution_count": 0,
   "metadata": {
    "application/vnd.databricks.v1+cell": {
     "cellMetadata": {
      "byteLimit": 2048000,
      "rowLimit": 10000
     },
     "inputWidgets": {},
     "nuid": "27b22e33-5cb8-4649-ad73-7d49f19f4802",
     "showTitle": false,
     "title": ""
    }
   },
   "outputs": [
    {
     "output_type": "display_data",
     "data": {
      "text/html": [
       "<style scoped>\n",
       "  .table-result-container {\n",
       "    max-height: 300px;\n",
       "    overflow: auto;\n",
       "  }\n",
       "  table, th, td {\n",
       "    border: 1px solid black;\n",
       "    border-collapse: collapse;\n",
       "  }\n",
       "  th, td {\n",
       "    padding: 5px;\n",
       "  }\n",
       "  th {\n",
       "    text-align: left;\n",
       "  }\n",
       "</style><div class='table-result-container'><table class='table-result'><thead style='background-color: white'><tr><th>path</th><th>name</th><th>size</th><th>modificationTime</th></tr></thead><tbody><tr><td>dbfs:/FileStore/siver/dados.parquet/</td><td>dados.parquet/</td><td>0</td><td>0</td></tr></tbody></table></div>"
      ]
     },
     "metadata": {
      "application/vnd.databricks.v1+output": {
       "addedWidgets": {},
       "aggData": [],
       "aggError": "",
       "aggOverflow": false,
       "aggSchema": [],
       "aggSeriesLimitReached": false,
       "aggType": "",
       "arguments": {},
       "columnCustomDisplayInfos": {},
       "data": [
        [
         "dbfs:/FileStore/siver/dados.parquet/",
         "dados.parquet/",
         0,
         0
        ]
       ],
       "datasetInfos": [],
       "dbfsResultPath": null,
       "isJsonSchema": true,
       "metadata": {},
       "overflow": false,
       "plotOptions": {
        "customPlotOptions": {},
        "displayType": "table",
        "pivotAggregation": null,
        "pivotColumns": null,
        "xColumns": null,
        "yColumns": null
       },
       "removedWidgets": [],
       "schema": [
        {
         "metadata": "{}",
         "name": "path",
         "type": "\"string\""
        },
        {
         "metadata": "{}",
         "name": "name",
         "type": "\"string\""
        },
        {
         "metadata": "{}",
         "name": "size",
         "type": "\"long\""
        },
        {
         "metadata": "{}",
         "name": "modificationTime",
         "type": "\"long\""
        }
       ],
       "type": "table"
      }
     },
     "output_type": "display_data"
    }
   ],
   "source": [
    "display(dbutils.fs.ls(\"dbfs:/FileStore/siver/\"))"
   ]
  },
  {
   "cell_type": "code",
   "execution_count": 0,
   "metadata": {
    "application/vnd.databricks.v1+cell": {
     "cellMetadata": {
      "byteLimit": 2048000,
      "rowLimit": 10000
     },
     "inputWidgets": {},
     "nuid": "f025fdc7-dabb-4227-b697-675aa91c9f5f",
     "showTitle": false,
     "title": ""
    }
   },
   "outputs": [],
   "source": [
    "path = \"dbfs:/FileStore/tables/arquivos_curso/data.csv\""
   ]
  },
  {
   "cell_type": "code",
   "execution_count": 0,
   "metadata": {
    "application/vnd.databricks.v1+cell": {
     "cellMetadata": {
      "byteLimit": 2048000,
      "rowLimit": 10000
     },
     "inputWidgets": {},
     "nuid": "6afcba78-bc70-4336-8c20-54e84648b691",
     "showTitle": false,
     "title": ""
    }
   },
   "outputs": [],
   "source": [
    "df_data = spark.read.csv(path, inferSchema=True, header=True)"
   ]
  },
  {
   "cell_type": "code",
   "execution_count": 0,
   "metadata": {
    "application/vnd.databricks.v1+cell": {
     "cellMetadata": {
      "byteLimit": 2048000,
      "rowLimit": 10000
     },
     "inputWidgets": {},
     "nuid": "da5074aa-9cd2-4281-9a91-78bed36ce298",
     "showTitle": false,
     "title": ""
    }
   },
   "outputs": [],
   "source": [
    "df_data = df_data.pandas_api()"
   ]
  },
  {
   "cell_type": "code",
   "execution_count": 0,
   "metadata": {
    "application/vnd.databricks.v1+cell": {
     "cellMetadata": {
      "byteLimit": 2048000,
      "rowLimit": 10000
     },
     "inputWidgets": {},
     "nuid": "4e1d1363-2fd9-422e-993b-5e517dbeae31",
     "showTitle": false,
     "title": ""
    }
   },
   "outputs": [
    {
     "output_type": "stream",
     "name": "stdout",
     "output_type": "stream",
     "text": [
      "<class 'pyspark.pandas.frame.DataFrame'>\nInt64Index: 170653 entries, 0 to 170652\nData columns (total 19 columns):\n #   Column            Non-Null Count   Dtype  \n---  ------            --------------   -----  \n 0   valence           170653 non-null  float64\n 1   year              170653 non-null  int32  \n 2   acousticness      170653 non-null  float64\n 3   artists           170653 non-null  object \n 4   danceability      170653 non-null  object \n 5   duration_ms       170653 non-null  object \n 6   energy            170653 non-null  object \n 7   explicit          170653 non-null  object \n 8   id                170653 non-null  object \n 9   instrumentalness  170653 non-null  object \n 10  key               170653 non-null  object \n 11  liveness          170653 non-null  object \n 12  loudness          170653 non-null  object \n 13  mode              170653 non-null  object \n 14  name              170653 non-null  object \n 15  popularity        170653 non-null  object \n 16  release_date      170653 non-null  object \n 17  speechiness       170653 non-null  object \n 18  tempo             170653 non-null  object \ndtypes: float64(2), int32(1), object(16)"
     ]
    }
   ],
   "source": [
    "df_data.info()"
   ]
  },
  {
   "cell_type": "code",
   "execution_count": 0,
   "metadata": {
    "application/vnd.databricks.v1+cell": {
     "cellMetadata": {
      "byteLimit": 2048000,
      "rowLimit": 10000
     },
     "inputWidgets": {},
     "nuid": "28a61b2f-92b7-4eae-973a-084866e3e2f5",
     "showTitle": false,
     "title": ""
    }
   },
   "outputs": [],
   "source": [
    "colunas_float = ['acousticness', 'danceability', 'energy', 'instrumentalness', 'liveness', 'loudness', 'speechiness', 'tempo', 'valence']\n",
    "colunas_int = ['duration_ms', 'mode', 'key', 'explicit', 'popularity']"
   ]
  },
  {
   "cell_type": "code",
   "execution_count": 0,
   "metadata": {
    "application/vnd.databricks.v1+cell": {
     "cellMetadata": {
      "byteLimit": 2048000,
      "rowLimit": 10000
     },
     "inputWidgets": {},
     "nuid": "017241ef-0c55-4cad-846c-1adc6888644c",
     "showTitle": false,
     "title": ""
    }
   },
   "outputs": [],
   "source": [
    "df_data[colunas_float] = df_data[colunas_float].astype(float)\n"
   ]
  },
  {
   "cell_type": "code",
   "execution_count": 0,
   "metadata": {
    "application/vnd.databricks.v1+cell": {
     "cellMetadata": {
      "byteLimit": 2048000,
      "rowLimit": 10000
     },
     "inputWidgets": {},
     "nuid": "60b633f4-5c04-43b8-81f8-f9f188ac7512",
     "showTitle": false,
     "title": ""
    }
   },
   "outputs": [],
   "source": [
    "df_data[colunas_int] = df_data[colunas_int].astype(int)"
   ]
  },
  {
   "cell_type": "code",
   "execution_count": 0,
   "metadata": {
    "application/vnd.databricks.v1+cell": {
     "cellMetadata": {
      "byteLimit": 2048000,
      "rowLimit": 10000
     },
     "inputWidgets": {},
     "nuid": "e43430e0-04ef-421c-bf7c-a004feb47f91",
     "showTitle": false,
     "title": ""
    }
   },
   "outputs": [
    {
     "output_type": "stream",
     "name": "stdout",
     "output_type": "stream",
     "text": [
      "<class 'pyspark.pandas.frame.DataFrame'>\nInt64Index: 170653 entries, 0 to 170652\nData columns (total 19 columns):\n #   Column            Non-Null Count   Dtype  \n---  ------            --------------   -----  \n 0   valence           170653 non-null  float64\n 1   year              170653 non-null  int32  \n 2   acousticness      170653 non-null  float64\n 3   artists           170653 non-null  object \n 4   danceability      170080 non-null  float64\n 5   duration_ms       170454 non-null  int64  \n 6   energy            170573 non-null  float64\n 7   explicit          170606 non-null  int64  \n 8   id                170653 non-null  object \n 9   instrumentalness  170270 non-null  float64\n 10  key               170451 non-null  int64  \n 11  liveness          170613 non-null  float64\n 12  loudness          170621 non-null  float64\n 13  mode              170635 non-null  int64  \n 14  name              170653 non-null  object \n 15  popularity        169496 non-null  int64  \n 16  release_date      170653 non-null  object \n 17  speechiness       170042 non-null  float64\n 18  tempo             170404 non-null  float64\ndtypes: float64(9), int32(1), int64(5), object(4)"
     ]
    }
   ],
   "source": [
    "df_data.info()"
   ]
  },
  {
   "cell_type": "code",
   "execution_count": 0,
   "metadata": {
    "application/vnd.databricks.v1+cell": {
     "cellMetadata": {
      "byteLimit": 2048000,
      "rowLimit": 10000
     },
     "inputWidgets": {},
     "nuid": "71009d37-1cb2-4a98-b3ab-d540512b9213",
     "showTitle": false,
     "title": ""
    }
   },
   "outputs": [
    {
     "output_type": "display_data",
     "data": {
      "text/html": [
       "<div>\n",
       "<style scoped>\n",
       "    .dataframe tbody tr th:only-of-type {\n",
       "        vertical-align: middle;\n",
       "    }\n",
       "\n",
       "    .dataframe tbody tr th {\n",
       "        vertical-align: top;\n",
       "    }\n",
       "\n",
       "    .dataframe thead th {\n",
       "        text-align: right;\n",
       "    }\n",
       "</style>\n",
       "<table border=\"1\" class=\"dataframe\">\n",
       "  <thead>\n",
       "    <tr style=\"text-align: right;\">\n",
       "      <th></th>\n",
       "      <th>valence</th>\n",
       "      <th>year</th>\n",
       "      <th>acousticness</th>\n",
       "      <th>artists</th>\n",
       "      <th>danceability</th>\n",
       "      <th>duration_ms</th>\n",
       "      <th>energy</th>\n",
       "      <th>explicit</th>\n",
       "      <th>id</th>\n",
       "      <th>instrumentalness</th>\n",
       "      <th>key</th>\n",
       "      <th>liveness</th>\n",
       "      <th>loudness</th>\n",
       "      <th>mode</th>\n",
       "      <th>name</th>\n",
       "      <th>popularity</th>\n",
       "      <th>release_date</th>\n",
       "      <th>speechiness</th>\n",
       "      <th>tempo</th>\n",
       "    </tr>\n",
       "  </thead>\n",
       "  <tbody>\n",
       "    <tr>\n",
       "      <th>0</th>\n",
       "      <td>0.0594</td>\n",
       "      <td>1921</td>\n",
       "      <td>0.982</td>\n",
       "      <td>Sergei Rachmaninoff, James Levine, Berliner Ph...</td>\n",
       "      <td>0.279</td>\n",
       "      <td>831667</td>\n",
       "      <td>0.211</td>\n",
       "      <td>0</td>\n",
       "      <td>4BJqT0PrAfrxzMOxytFOIz</td>\n",
       "      <td>0.878000</td>\n",
       "      <td>10</td>\n",
       "      <td>0.665</td>\n",
       "      <td>-20.096</td>\n",
       "      <td>1</td>\n",
       "      <td>Piano Concerto No. 3 in D Minor, Op. 30: III. ...</td>\n",
       "      <td>4</td>\n",
       "      <td>1921</td>\n",
       "      <td>0.0366</td>\n",
       "      <td>80.954</td>\n",
       "    </tr>\n",
       "    <tr>\n",
       "      <th>1</th>\n",
       "      <td>0.9630</td>\n",
       "      <td>1921</td>\n",
       "      <td>0.732</td>\n",
       "      <td>Dennis Day</td>\n",
       "      <td>0.819</td>\n",
       "      <td>180533</td>\n",
       "      <td>0.341</td>\n",
       "      <td>0</td>\n",
       "      <td>7xPhfUan2yNtyFG0cUWkt8</td>\n",
       "      <td>0.000000</td>\n",
       "      <td>7</td>\n",
       "      <td>0.160</td>\n",
       "      <td>-12.441</td>\n",
       "      <td>1</td>\n",
       "      <td>Clancy Lowered the Boom</td>\n",
       "      <td>5</td>\n",
       "      <td>1921</td>\n",
       "      <td>0.4150</td>\n",
       "      <td>60.936</td>\n",
       "    </tr>\n",
       "    <tr>\n",
       "      <th>2</th>\n",
       "      <td>0.0394</td>\n",
       "      <td>1921</td>\n",
       "      <td>0.961</td>\n",
       "      <td>KHP Kridhamardawa Karaton Ngayogyakarta Hadini...</td>\n",
       "      <td>0.328</td>\n",
       "      <td>500062</td>\n",
       "      <td>0.166</td>\n",
       "      <td>0</td>\n",
       "      <td>1o6I8BglA6ylDMrIELygv1</td>\n",
       "      <td>0.913000</td>\n",
       "      <td>3</td>\n",
       "      <td>0.101</td>\n",
       "      <td>-14.850</td>\n",
       "      <td>1</td>\n",
       "      <td>Gati Bali</td>\n",
       "      <td>5</td>\n",
       "      <td>1921</td>\n",
       "      <td>0.0339</td>\n",
       "      <td>110.339</td>\n",
       "    </tr>\n",
       "    <tr>\n",
       "      <th>3</th>\n",
       "      <td>0.1650</td>\n",
       "      <td>1921</td>\n",
       "      <td>0.967</td>\n",
       "      <td>Frank Parker</td>\n",
       "      <td>0.275</td>\n",
       "      <td>210000</td>\n",
       "      <td>0.309</td>\n",
       "      <td>0</td>\n",
       "      <td>3ftBPsC5vPBKxYSee08FDH</td>\n",
       "      <td>0.000028</td>\n",
       "      <td>5</td>\n",
       "      <td>0.381</td>\n",
       "      <td>-9.316</td>\n",
       "      <td>1</td>\n",
       "      <td>Danny Boy</td>\n",
       "      <td>3</td>\n",
       "      <td>1921</td>\n",
       "      <td>0.0354</td>\n",
       "      <td>100.109</td>\n",
       "    </tr>\n",
       "    <tr>\n",
       "      <th>4</th>\n",
       "      <td>0.2530</td>\n",
       "      <td>1921</td>\n",
       "      <td>0.957</td>\n",
       "      <td>Phil Regan</td>\n",
       "      <td>0.418</td>\n",
       "      <td>166693</td>\n",
       "      <td>0.193</td>\n",
       "      <td>0</td>\n",
       "      <td>4d6HGyGT8e121BsdKmw9v6</td>\n",
       "      <td>0.000002</td>\n",
       "      <td>3</td>\n",
       "      <td>0.229</td>\n",
       "      <td>-10.096</td>\n",
       "      <td>1</td>\n",
       "      <td>When Irish Eyes Are Smiling</td>\n",
       "      <td>2</td>\n",
       "      <td>1921</td>\n",
       "      <td>0.0380</td>\n",
       "      <td>101.665</td>\n",
       "    </tr>\n",
       "  </tbody>\n",
       "</table>\n",
       "</div>"
      ]
     },
     "metadata": {
      "application/vnd.databricks.v1+output": {
       "addedWidgets": {},
       "arguments": {},
       "data": "<div>\n<style scoped>\n    .dataframe tbody tr th:only-of-type {\n        vertical-align: middle;\n    }\n\n    .dataframe tbody tr th {\n        vertical-align: top;\n    }\n\n    .dataframe thead th {\n        text-align: right;\n    }\n</style>\n<table border=\"1\" class=\"dataframe\">\n  <thead>\n    <tr style=\"text-align: right;\">\n      <th></th>\n      <th>valence</th>\n      <th>year</th>\n      <th>acousticness</th>\n      <th>artists</th>\n      <th>danceability</th>\n      <th>duration_ms</th>\n      <th>energy</th>\n      <th>explicit</th>\n      <th>id</th>\n      <th>instrumentalness</th>\n      <th>key</th>\n      <th>liveness</th>\n      <th>loudness</th>\n      <th>mode</th>\n      <th>name</th>\n      <th>popularity</th>\n      <th>release_date</th>\n      <th>speechiness</th>\n      <th>tempo</th>\n    </tr>\n  </thead>\n  <tbody>\n    <tr>\n      <th>0</th>\n      <td>0.0594</td>\n      <td>1921</td>\n      <td>0.982</td>\n      <td>Sergei Rachmaninoff, James Levine, Berliner Ph...</td>\n      <td>0.279</td>\n      <td>831667</td>\n      <td>0.211</td>\n      <td>0</td>\n      <td>4BJqT0PrAfrxzMOxytFOIz</td>\n      <td>0.878000</td>\n      <td>10</td>\n      <td>0.665</td>\n      <td>-20.096</td>\n      <td>1</td>\n      <td>Piano Concerto No. 3 in D Minor, Op. 30: III. ...</td>\n      <td>4</td>\n      <td>1921</td>\n      <td>0.0366</td>\n      <td>80.954</td>\n    </tr>\n    <tr>\n      <th>1</th>\n      <td>0.9630</td>\n      <td>1921</td>\n      <td>0.732</td>\n      <td>Dennis Day</td>\n      <td>0.819</td>\n      <td>180533</td>\n      <td>0.341</td>\n      <td>0</td>\n      <td>7xPhfUan2yNtyFG0cUWkt8</td>\n      <td>0.000000</td>\n      <td>7</td>\n      <td>0.160</td>\n      <td>-12.441</td>\n      <td>1</td>\n      <td>Clancy Lowered the Boom</td>\n      <td>5</td>\n      <td>1921</td>\n      <td>0.4150</td>\n      <td>60.936</td>\n    </tr>\n    <tr>\n      <th>2</th>\n      <td>0.0394</td>\n      <td>1921</td>\n      <td>0.961</td>\n      <td>KHP Kridhamardawa Karaton Ngayogyakarta Hadini...</td>\n      <td>0.328</td>\n      <td>500062</td>\n      <td>0.166</td>\n      <td>0</td>\n      <td>1o6I8BglA6ylDMrIELygv1</td>\n      <td>0.913000</td>\n      <td>3</td>\n      <td>0.101</td>\n      <td>-14.850</td>\n      <td>1</td>\n      <td>Gati Bali</td>\n      <td>5</td>\n      <td>1921</td>\n      <td>0.0339</td>\n      <td>110.339</td>\n    </tr>\n    <tr>\n      <th>3</th>\n      <td>0.1650</td>\n      <td>1921</td>\n      <td>0.967</td>\n      <td>Frank Parker</td>\n      <td>0.275</td>\n      <td>210000</td>\n      <td>0.309</td>\n      <td>0</td>\n      <td>3ftBPsC5vPBKxYSee08FDH</td>\n      <td>0.000028</td>\n      <td>5</td>\n      <td>0.381</td>\n      <td>-9.316</td>\n      <td>1</td>\n      <td>Danny Boy</td>\n      <td>3</td>\n      <td>1921</td>\n      <td>0.0354</td>\n      <td>100.109</td>\n    </tr>\n    <tr>\n      <th>4</th>\n      <td>0.2530</td>\n      <td>1921</td>\n      <td>0.957</td>\n      <td>Phil Regan</td>\n      <td>0.418</td>\n      <td>166693</td>\n      <td>0.193</td>\n      <td>0</td>\n      <td>4d6HGyGT8e121BsdKmw9v6</td>\n      <td>0.000002</td>\n      <td>3</td>\n      <td>0.229</td>\n      <td>-10.096</td>\n      <td>1</td>\n      <td>When Irish Eyes Are Smiling</td>\n      <td>2</td>\n      <td>1921</td>\n      <td>0.0380</td>\n      <td>101.665</td>\n    </tr>\n  </tbody>\n</table>\n</div>",
       "datasetInfos": [],
       "metadata": {},
       "removedWidgets": [],
       "textData": null,
       "type": "htmlSandbox"
      }
     },
     "output_type": "display_data"
    }
   ],
   "source": [
    "df_data.head()"
   ]
  },
  {
   "cell_type": "code",
   "execution_count": 0,
   "metadata": {
    "application/vnd.databricks.v1+cell": {
     "cellMetadata": {
      "byteLimit": 2048000,
      "rowLimit": 10000
     },
     "inputWidgets": {},
     "nuid": "e83c53eb-3a32-4699-a62c-268a954b5c7a",
     "showTitle": false,
     "title": ""
    }
   },
   "outputs": [],
   "source": [
    "# Ajustar o nome do artistis\n",
    "df_data['artists'] = df_data.artists.str.replace(\"\\[|\\]|\\'\", \"\")"
   ]
  },
  {
   "cell_type": "code",
   "execution_count": 0,
   "metadata": {
    "application/vnd.databricks.v1+cell": {
     "cellMetadata": {
      "byteLimit": 2048000,
      "rowLimit": 10000
     },
     "inputWidgets": {},
     "nuid": "2b6a40e2-3010-4dd8-bd06-303d43c7d33c",
     "showTitle": false,
     "title": ""
    }
   },
   "outputs": [
    {
     "output_type": "stream",
     "name": "stdout",
     "output_type": "stream",
     "text": [
      "Out[45]: True"
     ]
    }
   ],
   "source": [
    "dbutils.fs.mkdirs(\"dbfs:/FileStore/siver/\")"
   ]
  },
  {
   "cell_type": "code",
   "execution_count": 0,
   "metadata": {
    "application/vnd.databricks.v1+cell": {
     "cellMetadata": {
      "byteLimit": 2048000,
      "rowLimit": 10000
     },
     "inputWidgets": {},
     "nuid": "7cbeeecf-98e0-408b-b7b4-bd07d1933286",
     "showTitle": false,
     "title": ""
    }
   },
   "outputs": [],
   "source": [
    "df_data.to_parquet(\"dbfs:/FileStore/siver/dados.parquet\")"
   ]
  },
  {
   "cell_type": "code",
   "execution_count": 0,
   "metadata": {
    "application/vnd.databricks.v1+cell": {
     "cellMetadata": {
      "byteLimit": 2048000,
      "rowLimit": 10000
     },
     "inputWidgets": {},
     "nuid": "6c98a404-c025-49bd-8365-c8cbd47efd21",
     "showTitle": false,
     "title": ""
    }
   },
   "outputs": [
    {
     "output_type": "display_data",
     "data": {
      "text/html": [
       "<style scoped>\n",
       "  .table-result-container {\n",
       "    max-height: 300px;\n",
       "    overflow: auto;\n",
       "  }\n",
       "  table, th, td {\n",
       "    border: 1px solid black;\n",
       "    border-collapse: collapse;\n",
       "  }\n",
       "  th, td {\n",
       "    padding: 5px;\n",
       "  }\n",
       "  th {\n",
       "    text-align: left;\n",
       "  }\n",
       "</style><div class='table-result-container'><table class='table-result'><thead style='background-color: white'><tr><th>path</th><th>name</th><th>size</th><th>modificationTime</th></tr></thead><tbody><tr><td>dbfs:/FileStore/siver/dados.parquet/_SUCCESS</td><td>_SUCCESS</td><td>0</td><td>1719330995000</td></tr><tr><td>dbfs:/FileStore/siver/dados.parquet/_committed_391557520997453934</td><td>_committed_391557520997453934</td><td>816</td><td>1719330995000</td></tr><tr><td>dbfs:/FileStore/siver/dados.parquet/_started_391557520997453934</td><td>_started_391557520997453934</td><td>0</td><td>1719330976000</td></tr><tr><td>dbfs:/FileStore/siver/dados.parquet/part-00000-tid-391557520997453934-5fca5f5a-f660-43cd-92f0-7e77dd9a5713-366-1-c000.snappy.parquet</td><td>part-00000-tid-391557520997453934-5fca5f5a-f660-43cd-92f0-7e77dd9a5713-366-1-c000.snappy.parquet</td><td>1951364</td><td>1719330995000</td></tr><tr><td>dbfs:/FileStore/siver/dados.parquet/part-00001-tid-391557520997453934-5fca5f5a-f660-43cd-92f0-7e77dd9a5713-367-1-c000.snappy.parquet</td><td>part-00001-tid-391557520997453934-5fca5f5a-f660-43cd-92f0-7e77dd9a5713-367-1-c000.snappy.parquet</td><td>2000184</td><td>1719330995000</td></tr><tr><td>dbfs:/FileStore/siver/dados.parquet/part-00002-tid-391557520997453934-5fca5f5a-f660-43cd-92f0-7e77dd9a5713-368-1-c000.snappy.parquet</td><td>part-00002-tid-391557520997453934-5fca5f5a-f660-43cd-92f0-7e77dd9a5713-368-1-c000.snappy.parquet</td><td>2050189</td><td>1719330995000</td></tr><tr><td>dbfs:/FileStore/siver/dados.parquet/part-00003-tid-391557520997453934-5fca5f5a-f660-43cd-92f0-7e77dd9a5713-369-1-c000.snappy.parquet</td><td>part-00003-tid-391557520997453934-5fca5f5a-f660-43cd-92f0-7e77dd9a5713-369-1-c000.snappy.parquet</td><td>2044634</td><td>1719330995000</td></tr><tr><td>dbfs:/FileStore/siver/dados.parquet/part-00004-tid-391557520997453934-5fca5f5a-f660-43cd-92f0-7e77dd9a5713-370-1-c000.snappy.parquet</td><td>part-00004-tid-391557520997453934-5fca5f5a-f660-43cd-92f0-7e77dd9a5713-370-1-c000.snappy.parquet</td><td>2079015</td><td>1719330995000</td></tr><tr><td>dbfs:/FileStore/siver/dados.parquet/part-00005-tid-391557520997453934-5fca5f5a-f660-43cd-92f0-7e77dd9a5713-371-1-c000.snappy.parquet</td><td>part-00005-tid-391557520997453934-5fca5f5a-f660-43cd-92f0-7e77dd9a5713-371-1-c000.snappy.parquet</td><td>2083114</td><td>1719330995000</td></tr><tr><td>dbfs:/FileStore/siver/dados.parquet/part-00006-tid-391557520997453934-5fca5f5a-f660-43cd-92f0-7e77dd9a5713-372-1-c000.snappy.parquet</td><td>part-00006-tid-391557520997453934-5fca5f5a-f660-43cd-92f0-7e77dd9a5713-372-1-c000.snappy.parquet</td><td>2111243</td><td>1719330995000</td></tr><tr><td>dbfs:/FileStore/siver/dados.parquet/part-00007-tid-391557520997453934-5fca5f5a-f660-43cd-92f0-7e77dd9a5713-373-1-c000.snappy.parquet</td><td>part-00007-tid-391557520997453934-5fca5f5a-f660-43cd-92f0-7e77dd9a5713-373-1-c000.snappy.parquet</td><td>33610</td><td>1719330995000</td></tr></tbody></table></div>"
      ]
     },
     "metadata": {
      "application/vnd.databricks.v1+output": {
       "addedWidgets": {},
       "aggData": [],
       "aggError": "",
       "aggOverflow": false,
       "aggSchema": [],
       "aggSeriesLimitReached": false,
       "aggType": "",
       "arguments": {},
       "columnCustomDisplayInfos": {},
       "data": [
        [
         "dbfs:/FileStore/siver/dados.parquet/_SUCCESS",
         "_SUCCESS",
         0,
         1719330995000
        ],
        [
         "dbfs:/FileStore/siver/dados.parquet/_committed_391557520997453934",
         "_committed_391557520997453934",
         816,
         1719330995000
        ],
        [
         "dbfs:/FileStore/siver/dados.parquet/_started_391557520997453934",
         "_started_391557520997453934",
         0,
         1719330976000
        ],
        [
         "dbfs:/FileStore/siver/dados.parquet/part-00000-tid-391557520997453934-5fca5f5a-f660-43cd-92f0-7e77dd9a5713-366-1-c000.snappy.parquet",
         "part-00000-tid-391557520997453934-5fca5f5a-f660-43cd-92f0-7e77dd9a5713-366-1-c000.snappy.parquet",
         1951364,
         1719330995000
        ],
        [
         "dbfs:/FileStore/siver/dados.parquet/part-00001-tid-391557520997453934-5fca5f5a-f660-43cd-92f0-7e77dd9a5713-367-1-c000.snappy.parquet",
         "part-00001-tid-391557520997453934-5fca5f5a-f660-43cd-92f0-7e77dd9a5713-367-1-c000.snappy.parquet",
         2000184,
         1719330995000
        ],
        [
         "dbfs:/FileStore/siver/dados.parquet/part-00002-tid-391557520997453934-5fca5f5a-f660-43cd-92f0-7e77dd9a5713-368-1-c000.snappy.parquet",
         "part-00002-tid-391557520997453934-5fca5f5a-f660-43cd-92f0-7e77dd9a5713-368-1-c000.snappy.parquet",
         2050189,
         1719330995000
        ],
        [
         "dbfs:/FileStore/siver/dados.parquet/part-00003-tid-391557520997453934-5fca5f5a-f660-43cd-92f0-7e77dd9a5713-369-1-c000.snappy.parquet",
         "part-00003-tid-391557520997453934-5fca5f5a-f660-43cd-92f0-7e77dd9a5713-369-1-c000.snappy.parquet",
         2044634,
         1719330995000
        ],
        [
         "dbfs:/FileStore/siver/dados.parquet/part-00004-tid-391557520997453934-5fca5f5a-f660-43cd-92f0-7e77dd9a5713-370-1-c000.snappy.parquet",
         "part-00004-tid-391557520997453934-5fca5f5a-f660-43cd-92f0-7e77dd9a5713-370-1-c000.snappy.parquet",
         2079015,
         1719330995000
        ],
        [
         "dbfs:/FileStore/siver/dados.parquet/part-00005-tid-391557520997453934-5fca5f5a-f660-43cd-92f0-7e77dd9a5713-371-1-c000.snappy.parquet",
         "part-00005-tid-391557520997453934-5fca5f5a-f660-43cd-92f0-7e77dd9a5713-371-1-c000.snappy.parquet",
         2083114,
         1719330995000
        ],
        [
         "dbfs:/FileStore/siver/dados.parquet/part-00006-tid-391557520997453934-5fca5f5a-f660-43cd-92f0-7e77dd9a5713-372-1-c000.snappy.parquet",
         "part-00006-tid-391557520997453934-5fca5f5a-f660-43cd-92f0-7e77dd9a5713-372-1-c000.snappy.parquet",
         2111243,
         1719330995000
        ],
        [
         "dbfs:/FileStore/siver/dados.parquet/part-00007-tid-391557520997453934-5fca5f5a-f660-43cd-92f0-7e77dd9a5713-373-1-c000.snappy.parquet",
         "part-00007-tid-391557520997453934-5fca5f5a-f660-43cd-92f0-7e77dd9a5713-373-1-c000.snappy.parquet",
         33610,
         1719330995000
        ]
       ],
       "datasetInfos": [],
       "dbfsResultPath": null,
       "isJsonSchema": true,
       "metadata": {},
       "overflow": false,
       "plotOptions": {
        "customPlotOptions": {},
        "displayType": "table",
        "pivotAggregation": null,
        "pivotColumns": null,
        "xColumns": null,
        "yColumns": null
       },
       "removedWidgets": [],
       "schema": [
        {
         "metadata": "{}",
         "name": "path",
         "type": "\"string\""
        },
        {
         "metadata": "{}",
         "name": "name",
         "type": "\"string\""
        },
        {
         "metadata": "{}",
         "name": "size",
         "type": "\"long\""
        },
        {
         "metadata": "{}",
         "name": "modificationTime",
         "type": "\"long\""
        }
       ],
       "type": "table"
      }
     },
     "output_type": "display_data"
    }
   ],
   "source": [
    "display(dbutils.fs.ls(\"dbfs:/FileStore/siver/dados.parquet/\"))"
   ]
  },
  {
   "cell_type": "code",
   "execution_count": 0,
   "metadata": {
    "application/vnd.databricks.v1+cell": {
     "cellMetadata": {},
     "inputWidgets": {},
     "nuid": "911fb426-092f-46b3-864a-1e8351965655",
     "showTitle": false,
     "title": ""
    }
   },
   "outputs": [],
   "source": []
  }
 ],
 "metadata": {
  "application/vnd.databricks.v1+notebook": {
   "dashboards": [],
   "environmentMetadata": null,
   "language": "python",
   "notebookMetadata": {
    "pythonIndentUnit": 4
   },
   "notebookName": "01-Curso_formato_arquivos",
   "widgets": {}
  }
 },
 "nbformat": 4,
 "nbformat_minor": 0
}
